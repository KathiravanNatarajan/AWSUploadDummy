{
 "cells": [
  {
   "cell_type": "markdown",
   "metadata": {
    "deletable": true,
    "editable": true
   },
   "source": [
    "#### Reading data from csv"
   ]
  },
  {
   "cell_type": "code",
   "execution_count": 1,
   "metadata": {
    "collapsed": false,
    "deletable": true,
    "editable": true
   },
   "outputs": [
    {
     "data": {
      "text/plain": [
       "0      AIRTEL BILLS 22aug TO 23 AUG    2012\n",
       "1     AIRTEL MOBILE BILLS 23nov O 22 dec 12\n",
       "2                 aluminum fabrication work\n",
       "4               civil & plumbing work @ BMT\n",
       "5             ELECTRICAL WK 09ELR LAB @ MHB\n",
       "Name: MaterialDescription, dtype: object"
      ]
     },
     "execution_count": 1,
     "metadata": {},
     "output_type": "execute_result"
    }
   ],
   "source": [
    "import pandas as pd\n",
    "import numpy as np\n",
    "df = pd.read_csv('UNSPSCdataset.csv',encoding='mac_roman',low_memory=False)\n",
    "test_df = pd.read_csv('UNSPSCtestDataSet.csv',encoding='mac_roman',low_memory=False)\n",
    "# y and X are labels and features for the training set respectively\n",
    "df = df.drop_duplicates(['MaterialDescription'])\n",
    "y = df['UNSPSC_Final']\n",
    "X = df['MaterialDescription']\n",
    "X.head()"
   ]
  },
  {
   "cell_type": "code",
   "execution_count": 13,
   "metadata": {
    "collapsed": false,
    "deletable": true,
    "editable": true
   },
   "outputs": [],
   "source": [
    "def description_to_words(sentence):\n",
    "    # Keeping only text\n",
    "    import re\n",
    "    from nltk.corpus import stopwords\n",
    "    text = re.sub(\"[^a-zA-Z0-9]\",\" \",sentence)\n",
    "    # Convert words to lower case and split them \n",
    "    text = text.lower().split(\" \")\n",
    "    # optionally remove stopwords\n",
    "    stops = set(stopwords.words('english'))\n",
    "    meaningful_words = [w for w in text if not w in stops]\n",
    "    # Join the words back into one string separated by space, \n",
    "    # and return the result.\n",
    "    return( \" \".join( meaningful_words ))\n",
    "\n",
    "def sentences_split(field):\n",
    "    from nltk.corpus import stopwords\n",
    "    # Tokenizing each sentence from the paragraph \n",
    "    #raw_sentences = tokenizer.tokenize(word.strip())\n",
    "    \n",
    "    # Sentence list \n",
    "    sentences = []\n",
    "    if len(field) > 0:\n",
    "        sentences.append(description_to_words(field))\n",
    "    return sentences\n",
    "\n",
    "def list_of_words(series):\n",
    "    mainsentences = []\n",
    "    for i in series:\n",
    "       mainsentences += sentences_split(i)\n",
    "    x = get_features(mainsentences)\n",
    "    return x\n",
    "    \n",
    "\n",
    "# BAG OF WORDS MODEL \n",
    "def get_features(series):\n",
    "    from sklearn.feature_extraction.text import CountVectorizer\n",
    "\n",
    "    # Initialize the \"CountVectorizer\" object, which is scikit-learn's\n",
    "    # bag of words tool.  \n",
    "    vectorizer = CountVectorizer(analyzer = \"word\",   \\\n",
    "                                 tokenizer = None,    \\\n",
    "                                 preprocessor = None, \\\n",
    "                                 stop_words = None,   \\\n",
    "                                 max_features = 6936) \n",
    "    train_data_features = vectorizer.fit_transform(series)\n",
    "\n",
    "    # Numpy arrays are easy to work with, so convert the result to an \n",
    "    # array\n",
    "    train_data_features = train_data_features.toarray()\n",
    "    return train_data_features\n"
   ]
  },
  {
   "cell_type": "markdown",
   "metadata": {
    "deletable": true,
    "editable": true
   },
   "source": [
    "### Multilayer perceptron model in Tensorflow"
   ]
  },
  {
   "cell_type": "code",
   "execution_count": 14,
   "metadata": {
    "collapsed": true,
    "deletable": true,
    "editable": true
   },
   "outputs": [],
   "source": [
    "### Divdindg total data into batches\n",
    "\n",
    "def batches(k_batches, features, labels): \n",
    "    assert len(features) == len(labels)\n",
    "    batches_total = []\n",
    "    total_size = len(features)\n",
    "    for start_i in range(0,total_size, k_batches):\n",
    "        end_i = start_i + k_batches\n",
    "        batch = [features[start_i : end_i], labels[start_i : end_i]]\n",
    "        batches_total.append(batch)\n",
    "    return batches_total"
   ]
  },
  {
   "cell_type": "code",
   "execution_count": 8,
   "metadata": {
    "collapsed": false,
    "deletable": true,
    "editable": true
   },
   "outputs": [
    {
     "name": "stdout",
     "output_type": "stream",
     "text": [
      "NLTK Downloader\n",
      "---------------------------------------------------------------------------\n",
      "    d) Download   l) List    u) Update   c) Config   h) Help   q) Quit\n",
      "---------------------------------------------------------------------------\n",
      "Downloader> d\n",
      "\n",
      "Download which package (l=list; x=cancel)?\n",
      "  Identifier> stopwords\n",
      "    Downloading package stopwords to\n",
      "        C:\\Users\\sunka\\AppData\\Roaming\\nltk_data...\n",
      "      Unzipping corpora\\stopwords.zip.\n",
      "\n",
      "---------------------------------------------------------------------------\n",
      "    d) Download   l) List    u) Update   c) Config   h) Help   q) Quit\n",
      "---------------------------------------------------------------------------\n",
      "Downloader> q\n"
     ]
    },
    {
     "data": {
      "text/plain": [
       "True"
      ]
     },
     "execution_count": 8,
     "metadata": {},
     "output_type": "execute_result"
    }
   ],
   "source": [
    "import nltk\n",
    "nltk.download()"
   ]
  },
  {
   "cell_type": "code",
   "execution_count": 15,
   "metadata": {
    "collapsed": false,
    "deletable": true,
    "editable": true
   },
   "outputs": [
    {
     "name": "stdout",
     "output_type": "stream",
     "text": [
      "(23060, 6936)\n",
      "(11531, 6936)\n",
      "(49657, 6936)\n"
     ]
    }
   ],
   "source": [
    "train_features = list_of_words(X[:int(len(X)-len(X)/3)])\n",
    "train_labels = y[:int(len(X)-len(X)/3)]\n",
    "val_features = list_of_words(X[int(len(X)-len(X)/3):])\n",
    "val_labels =y[int(len(X)-len(X)/3):]\n",
    "test_features = list_of_words(test_df['MaterialDescription'])\n",
    "test_labels = test_df['UNSPSC_Final']\n",
    "print(train_features.shape)\n",
    "print(val_features.shape)\n",
    "print(test_features.shape)"
   ]
  },
  {
   "cell_type": "code",
   "execution_count": 16,
   "metadata": {
    "collapsed": false,
    "deletable": true,
    "editable": true
   },
   "outputs": [
    {
     "name": "stdout",
     "output_type": "stream",
     "text": [
      "(49657, 1161)\n",
      "(23060, 1161)\n",
      "(11531, 1161)\n"
     ]
    }
   ],
   "source": [
    "import tensorflow as tf\n",
    "n_classes = 1161\n",
    "from sklearn import preprocessing\n",
    "train_le = preprocessing.LabelEncoder()\n",
    "test_le = preprocessing.LabelEncoder()\n",
    "val_le = preprocessing.LabelEncoder()\n",
    "with tf.Session() as sessold:\n",
    "    train_labels = tf.one_hot(train_le.fit_transform(train_labels), n_classes).eval(session = sessold)\n",
    "    test_labels = tf.one_hot(test_le.fit_transform(test_labels), n_classes).eval(session = sessold)\n",
    "    val_labels = tf.one_hot(val_le.fit_transform(val_labels), n_classes).eval(session = sessold)\n",
    "    print(test_labels.shape)\n",
    "    print(train_labels.shape)\n",
    "    print(val_labels.shape)\n"
   ]
  },
  {
   "cell_type": "code",
   "execution_count": null,
   "metadata": {
    "collapsed": false,
    "deletable": true,
    "editable": true,
    "scrolled": true
   },
   "outputs": [
    {
     "name": "stdout",
     "output_type": "stream",
     "text": [
      "Epoch 0   - Validation Accuracy: 0.0006070592207834125\n"
     ]
    }
   ],
   "source": [
    "import time\n",
    "start = time.time()\n",
    "n_inputs = 6936\n",
    "n_classes = 1161\n",
    "\n",
    "\n",
    "features = tf.placeholder(tf.float32, [None,n_inputs])\n",
    "labels = tf.placeholder(tf.int32, [None,n_classes])\n",
    "\n",
    "h_layer_1 = 4000\n",
    "h_layer_2 = 3800\n",
    "#h_layer_3 = 4500\n",
    "\n",
    "weights = {\n",
    "'hidden_weights1' : tf.Variable(tf.truncated_normal([n_inputs, h_layer_1])),\n",
    "'hidden_weights2' : tf.Variable(tf.truncated_normal([h_layer_1, h_layer_2])),\n",
    "'out_weights' : tf.Variable(tf.truncated_normal([h_layer_2, n_classes]))\n",
    "}\n",
    "\n",
    "bias = {\n",
    "'hidden_bias1' : tf.Variable(tf.truncated_normal([h_layer_1])),\n",
    "'hidden_bias2' : tf.Variable(tf.truncated_normal([h_layer_2])),\n",
    "'out_bias' : tf.Variable(tf.truncated_normal([n_classes]))\n",
    "}\n",
    "keep_prob = tf.placeholder(tf.float32)\n",
    "\n",
    "### Hidden layer 1 \n",
    "hidden_output1 = tf.add(tf.matmul(features, weights['hidden_weights1']),bias['hidden_bias1'])\n",
    "hidden_relu1 = tf.nn.relu(hidden_output1)\n",
    "hidden_out1 = tf.nn.dropout(hidden_relu1, keep_prob)\n",
    "\n",
    "### Hidden layer 2\n",
    "hidden_output2 = tf.add(tf.matmul(hidden_out1, weights['hidden_weights2']),bias['hidden_bias2'])\n",
    "hidden_relu2 = tf.nn.relu(hidden_output2)\n",
    "hidden_out2 = tf.nn.dropout(hidden_relu2, keep_prob)\n",
    "\n",
    "\n",
    "### Output layer \n",
    "logits = tf.add(tf.matmul(hidden_out2, weights['out_weights']),bias['out_bias'])\n",
    "learn_rate = 0.\n",
    "\n",
    "# The file path to save the data\n",
    "save_file = './train_model.ckpt'\n",
    "saver = tf.train.Saver() # Class to save the model\n",
    "\n",
    "\n",
    "cost = tf.reduce_mean(tf.nn.softmax_cross_entropy_with_logits(logits = logits, labels = labels))\n",
    "\n",
    "optimizer = tf.train.GradientDescentOptimizer(learning_rate = learn_rate).minimize(cost)\n",
    "\n",
    "correct_prediction = tf.equal(tf.argmax(logits,1), tf.argmax(labels, 1))\n",
    "accuracy = tf.reduce_mean(tf.cast(correct_prediction, tf.float32))\n",
    "\n",
    "batchSize =  256 \n",
    "\n",
    "epochs = 2500 \n",
    "init = tf.global_variables_initializer()\n",
    "with tf.Session() as sess:\n",
    "    sess.run(init) \n",
    "    total_batches = batches(batchSize, train_features, train_labels)   \n",
    "\n",
    "    for epoch in range(epochs): \n",
    "        for batch_features, batch_labels in total_batches: \n",
    "            train_data = {features: batch_features, labels : batch_labels, keep_prob : 0.5}\n",
    "            \n",
    "            sess.run(optimizer, feed_dict = train_data)\n",
    "        # Print status for every 100 epochs\n",
    "        \n",
    "        if epoch % 100 == 0:\n",
    "            valid_accuracy = sess.run(\n",
    "                accuracy,\n",
    "                feed_dict={\n",
    "                    features: val_features,\n",
    "                    labels: val_labels,\n",
    "                    keep_prob : 0.5})\n",
    "            print('Epoch {:<3} - Validation Accuracy: {}'.format(\n",
    "                epoch,\n",
    "                valid_accuracy))\n",
    "    Accuracy = sess.run(accuracy, feed_dict={features : test_features, labels :test_labels, keep_prob : 1.0})\n",
    "    # Save the model\n",
    "    saver.save(sess, save_file)\n",
    "    print('Trained Model Saved.')\n",
    "    \n",
    "    prediction = tf.argmax(logits,1)\n",
    "    output_array = test_le.inverse_transform(prediction.eval(feed_dict={features : test_features, keep_prob: 1.0}))\n",
    "    prediction = np.reshape(output_array, (test_features.shape[0],1))\n",
    "    np.savetxt(\"prediction.csv\", prediction, delimiter=\",\")\n",
    "\n",
    "print(\"Accuracy value is {}\".format(Accuracy))\n",
    "end = time.time()\n",
    "print(\"total time \", end-start)"
   ]
  },
  {
   "cell_type": "code",
   "execution_count": null,
   "metadata": {
    "collapsed": true,
    "deletable": true,
    "editable": true
   },
   "outputs": [],
   "source": [
    "## hidden layers \n",
    "Epoch 700 - Validation Accuracy: 0.003989246673882008\n",
    "\"\"\"\n",
    "\n",
    "'hidden_weights3' : tf.Variable(tf.truncated_normal([h_layer_2, h_layer_3])),\n",
    "\n",
    "\n",
    "'hidden_bias3' : tf.Variable(tf.truncated_normal([h_layer_3])),\n",
    "\n",
    "\n",
    "\n",
    "### Hidden layer 3\n",
    "hidden_output3 = tf.add(tf.matmul(hidden_out2, weights['hidden_weights3']),bias['hidden_bias3'])\n",
    "hidden_relu3 = tf.nn.relu(hidden_output3)\n",
    "hidden_out3 = tf.nn.dropout(hidden_relu3, keep_prob)\n",
    "\n",
    "\"\"\""
   ]
  },
  {
   "cell_type": "markdown",
   "metadata": {
    "collapsed": true,
    "deletable": true,
    "editable": true
   },
   "source": [
    "#### Restoring the saved model \n"
   ]
  },
  {
   "cell_type": "code",
   "execution_count": 8,
   "metadata": {
    "collapsed": false,
    "deletable": true,
    "editable": true
   },
   "outputs": [
    {
     "ename": "TypeError",
     "evalue": "run() missing 1 required positional argument: 'fetches'",
     "output_type": "error",
     "traceback": [
      "\u001b[0;31m---------------------------------------------------------------------------\u001b[0m",
      "\u001b[0;31mTypeError\u001b[0m                                 Traceback (most recent call last)",
      "\u001b[0;32m<ipython-input-8-8391f6758dae>\u001b[0m in \u001b[0;36m<module>\u001b[0;34m()\u001b[0m\n\u001b[1;32m      7\u001b[0m     \u001b[0mtest_accuracy\u001b[0m \u001b[0;34m=\u001b[0m \u001b[0msess\u001b[0m\u001b[0;34m.\u001b[0m\u001b[0mrun\u001b[0m\u001b[0;34m(\u001b[0m\u001b[0maccuracy\u001b[0m\u001b[0;34m,\u001b[0m \u001b[0mfeed_dict\u001b[0m\u001b[0;34m=\u001b[0m\u001b[0;34m{\u001b[0m\u001b[0mfeatures\u001b[0m \u001b[0;34m:\u001b[0m \u001b[0mtest_features\u001b[0m\u001b[0;34m,\u001b[0m \u001b[0mlabels\u001b[0m \u001b[0;34m:\u001b[0m\u001b[0mtest_labels\u001b[0m\u001b[0;34m,\u001b[0m \u001b[0mkeep_prob\u001b[0m \u001b[0;34m:\u001b[0m \u001b[0;36m1.0\u001b[0m\u001b[0;34m}\u001b[0m\u001b[0;34m)\u001b[0m\u001b[0;34m\u001b[0m\u001b[0m\n\u001b[1;32m      8\u001b[0m \u001b[0;34m\u001b[0m\u001b[0m\n\u001b[0;32m----> 9\u001b[0;31m     \u001b[0moutputs\u001b[0m \u001b[0;34m=\u001b[0m \u001b[0msess\u001b[0m\u001b[0;34m.\u001b[0m\u001b[0mrun\u001b[0m\u001b[0;34m(\u001b[0m\u001b[0;34m)\u001b[0m\u001b[0;34m\u001b[0m\u001b[0m\n\u001b[0m\u001b[1;32m     10\u001b[0m \u001b[0mprint\u001b[0m\u001b[0;34m(\u001b[0m\u001b[0;34m'Test Accuracy: {}'\u001b[0m\u001b[0;34m.\u001b[0m\u001b[0mformat\u001b[0m\u001b[0;34m(\u001b[0m\u001b[0mtest_accuracy\u001b[0m\u001b[0;34m)\u001b[0m\u001b[0;34m)\u001b[0m\u001b[0;34m\u001b[0m\u001b[0m\n",
      "\u001b[0;31mTypeError\u001b[0m: run() missing 1 required positional argument: 'fetches'"
     ]
    }
   ],
   "source": [
    "saver = tf.train.Saver()\n",
    "\n",
    "# Launch the graph\n",
    "with tf.Session() as sess:\n",
    "    saver.restore(sess, save_file)\n",
    "\n",
    "    test_accuracy = sess.run(accuracy, feed_dict={features : test_features, labels :test_labels, keep_prob : 1.0})\n",
    "    \n",
    "    outputs = sess.run()\n",
    "print('Test Accuracy: {}'.format(test_accuracy))"
   ]
  },
  {
   "cell_type": "code",
   "execution_count": null,
   "metadata": {
    "collapsed": true,
    "deletable": true,
    "editable": true
   },
   "outputs": [],
   "source": []
  }
 ],
 "metadata": {
  "anaconda-cloud": {},
  "kernelspec": {
   "display_name": "Python 3",
   "language": "python",
   "name": "python3"
  },
  "language_info": {
   "codemirror_mode": {
    "name": "ipython",
    "version": 3
   },
   "file_extension": ".py",
   "mimetype": "text/x-python",
   "name": "python",
   "nbconvert_exporter": "python",
   "pygments_lexer": "ipython3",
   "version": "3.5.2"
  },
  "widgets": {
   "state": {},
   "version": "1.1.2"
  }
 },
 "nbformat": 4,
 "nbformat_minor": 1
}
