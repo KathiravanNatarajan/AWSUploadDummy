{
 "cells": [
  {
   "cell_type": "markdown",
   "metadata": {},
   "source": [
    "### Importing required libraries"
   ]
  },
  {
   "cell_type": "code",
   "execution_count": 7,
   "metadata": {
    "collapsed": true
   },
   "outputs": [],
   "source": [
    "import pandas as pd\n",
    "import numpy as np\n",
    "from sklearn.model_selection import train_test_split"
   ]
  },
  {
   "cell_type": "markdown",
   "metadata": {},
   "source": [
    "### Reading data from csv"
   ]
  },
  {
   "cell_type": "code",
   "execution_count": 3,
   "metadata": {
    "collapsed": false
   },
   "outputs": [],
   "source": [
    "df = pd.read_csv('UNSPSCdataset.csv',encoding='mac_roman',low_memory=False)"
   ]
  },
  {
   "cell_type": "code",
   "execution_count": 5,
   "metadata": {
    "collapsed": false
   },
   "outputs": [],
   "source": [
    "output = 'UNSPSC_Final'\n",
    "y = df[output]\n",
    "features = ['MaterialDescription','Segment','Family','Class','Commodity']\n",
    "X = df[features]\n",
    "X.head()\n",
    "X = X.fillna('NA')\n",
    "y = y.fillna('NA')"
   ]
  },
  {
   "cell_type": "markdown",
   "metadata": {},
   "source": [
    "### Dividing the data into training and validation sets"
   ]
  },
  {
   "cell_type": "code",
   "execution_count": 10,
   "metadata": {
    "collapsed": false
   },
   "outputs": [],
   "source": [
    "X_train, X_test, y_train, y_test = train_test_split(X, y, test_size=0.33)"
   ]
  },
  {
   "cell_type": "code",
   "execution_count": 11,
   "metadata": {
    "collapsed": false
   },
   "outputs": [
    {
     "data": {
      "text/html": [
       "<div>\n",
       "<table border=\"1\" class=\"dataframe\">\n",
       "  <thead>\n",
       "    <tr style=\"text-align: right;\">\n",
       "      <th></th>\n",
       "      <th>MaterialDescription</th>\n",
       "      <th>Segment</th>\n",
       "      <th>Family</th>\n",
       "      <th>Class</th>\n",
       "      <th>Commodity</th>\n",
       "    </tr>\n",
       "  </thead>\n",
       "  <tbody>\n",
       "    <tr>\n",
       "      <th>38457</th>\n",
       "      <td>877-530 HIGHLIGHTER BLUE, NON FLUO</td>\n",
       "      <td>NA</td>\n",
       "      <td>NA</td>\n",
       "      <td>NA</td>\n",
       "      <td>NA</td>\n",
       "    </tr>\n",
       "    <tr>\n",
       "      <th>23739</th>\n",
       "      <td>LEX-10B042K/ Black High Yield Toner</td>\n",
       "      <td>NA</td>\n",
       "      <td>NA</td>\n",
       "      <td>NA</td>\n",
       "      <td>NA</td>\n",
       "    </tr>\n",
       "    <tr>\n",
       "      <th>38334</th>\n",
       "      <td>040-BL-11-OE, ORANGE HIGHLIGHTERS</td>\n",
       "      <td>NA</td>\n",
       "      <td>NA</td>\n",
       "      <td>NA</td>\n",
       "      <td>NA</td>\n",
       "    </tr>\n",
       "    <tr>\n",
       "      <th>25696</th>\n",
       "      <td>46500M Zebra 170 XIII Printhead</td>\n",
       "      <td>NA</td>\n",
       "      <td>NA</td>\n",
       "      <td>NA</td>\n",
       "      <td>NA</td>\n",
       "    </tr>\n",
       "    <tr>\n",
       "      <th>4335</th>\n",
       "      <td>CALDYNE TAB</td>\n",
       "      <td>Drugs and Pharmaceutical Products</td>\n",
       "      <td>Agents affecting water and electrolytes</td>\n",
       "      <td>Dietary supplements and nutritional therapy pr...</td>\n",
       "      <td>Calcitriol</td>\n",
       "    </tr>\n",
       "  </tbody>\n",
       "</table>\n",
       "</div>"
      ],
      "text/plain": [
       "                       MaterialDescription                            Segment  \\\n",
       "38457   877-530 HIGHLIGHTER BLUE, NON FLUO                                 NA   \n",
       "23739  LEX-10B042K/ Black High Yield Toner                                 NA   \n",
       "38334    040-BL-11-OE, ORANGE HIGHLIGHTERS                                 NA   \n",
       "25696      46500M Zebra 170 XIII Printhead                                 NA   \n",
       "4335                           CALDYNE TAB  Drugs and Pharmaceutical Products   \n",
       "\n",
       "                                        Family  \\\n",
       "38457                                       NA   \n",
       "23739                                       NA   \n",
       "38334                                       NA   \n",
       "25696                                       NA   \n",
       "4335   Agents affecting water and electrolytes   \n",
       "\n",
       "                                                   Class   Commodity  \n",
       "38457                                                 NA          NA  \n",
       "23739                                                 NA          NA  \n",
       "38334                                                 NA          NA  \n",
       "25696                                                 NA          NA  \n",
       "4335   Dietary supplements and nutritional therapy pr...  Calcitriol  "
      ]
     },
     "execution_count": 11,
     "metadata": {},
     "output_type": "execute_result"
    }
   ],
   "source": [
    "X_test.head()"
   ]
  },
  {
   "cell_type": "code",
   "execution_count": null,
   "metadata": {
    "collapsed": true
   },
   "outputs": [],
   "source": []
  }
 ],
 "metadata": {
  "anaconda-cloud": {},
  "kernelspec": {
   "display_name": "Python [conda env:tensorflow]",
   "language": "python",
   "name": "conda-env-tensorflow-py"
  },
  "language_info": {
   "codemirror_mode": {
    "name": "ipython",
    "version": 3
   },
   "file_extension": ".py",
   "mimetype": "text/x-python",
   "name": "python",
   "nbconvert_exporter": "python",
   "pygments_lexer": "ipython3",
   "version": "3.5.3"
  }
 },
 "nbformat": 4,
 "nbformat_minor": 1
}
