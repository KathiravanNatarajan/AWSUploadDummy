{
 "cells": [
  {
   "cell_type": "markdown",
   "metadata": {},
   "source": [
    "### Importing required libraries"
   ]
  },
  {
   "cell_type": "code",
   "execution_count": 2,
   "metadata": {
    "collapsed": true
   },
   "outputs": [],
   "source": [
    "import pandas as pd\n",
    "import numpy as np "
   ]
  },
  {
   "cell_type": "markdown",
   "metadata": {},
   "source": [
    "### Reading data from csv"
   ]
  },
  {
   "cell_type": "code",
   "execution_count": 3,
   "metadata": {
    "collapsed": false
   },
   "outputs": [],
   "source": [
    "df = pd.read_csv('UNSPSCdataset.csv',encoding='mac_roman',low_memory=False)"
   ]
  },
  {
   "cell_type": "code",
   "execution_count": 5,
   "metadata": {
    "collapsed": false
   },
   "outputs": [],
   "source": [
    "output = 'UNSPSC_Final'\n",
    "y = df[output]\n",
    "features = ['MaterialDescription','Segment','Family','Class','Commodity']\n",
    "X = df[features]\n",
    "X.head()\n",
    "X = X.fillna('NA')\n",
    "y = y.fillna('NA')"
   ]
  },
  {
   "cell_type": "markdown",
   "metadata": {},
   "source": [
    "### Dividing the data into training and validation sets"
   ]
  },
  {
   "cell_type": "code",
   "execution_count": 16,
   "metadata": {
    "collapsed": false
   },
   "outputs": [],
   "source": [
    "train_features, train_targets = X[:12918], y[:12918]\n",
    "val_features, val_targets = X[12918:], y[12918:]"
   ]
  },
  {
   "cell_type": "code",
   "execution_count": 22,
   "metadata": {
    "collapsed": false
   },
   "outputs": [
    {
     "data": {
      "text/html": [
       "<div>\n",
       "<table border=\"1\" class=\"dataframe\">\n",
       "  <thead>\n",
       "    <tr style=\"text-align: right;\">\n",
       "      <th></th>\n",
       "      <th>MaterialDescription</th>\n",
       "      <th>Segment</th>\n",
       "      <th>Family</th>\n",
       "      <th>Class</th>\n",
       "      <th>Commodity</th>\n",
       "    </tr>\n",
       "  </thead>\n",
       "  <tbody>\n",
       "    <tr>\n",
       "      <th>0</th>\n",
       "      <td>AIRTEL BILLS 22aug TO 23 AUG    2012</td>\n",
       "      <td>Public Utilities and Public Sector Related Ser...</td>\n",
       "      <td>Telecommunications media services</td>\n",
       "      <td>Local and long distance telephone communications</td>\n",
       "      <td>NA</td>\n",
       "    </tr>\n",
       "    <tr>\n",
       "      <th>1</th>\n",
       "      <td>AIRTEL MOBILE BILLS 23nov O 22 dec 12</td>\n",
       "      <td>Public Utilities and Public Sector Related Ser...</td>\n",
       "      <td>Telecommunications media services</td>\n",
       "      <td>Local and long distance telephone communications</td>\n",
       "      <td>NA</td>\n",
       "    </tr>\n",
       "    <tr>\n",
       "      <th>2</th>\n",
       "      <td>aluminum fabrication work</td>\n",
       "      <td>Building and Facility Construction and Mainten...</td>\n",
       "      <td>Nonresidential building construction services</td>\n",
       "      <td>Commercial and office building construction se...</td>\n",
       "      <td>NA</td>\n",
       "    </tr>\n",
       "    <tr>\n",
       "      <th>3</th>\n",
       "      <td>aluminum fabrication work</td>\n",
       "      <td>Building and Facility Construction and Mainten...</td>\n",
       "      <td>Nonresidential building construction services</td>\n",
       "      <td>Commercial and office building construction se...</td>\n",
       "      <td>NA</td>\n",
       "    </tr>\n",
       "    <tr>\n",
       "      <th>4</th>\n",
       "      <td>civil &amp; plumbing work @ BMT</td>\n",
       "      <td>Building and Facility Construction and Mainten...</td>\n",
       "      <td>Specialized trade construction and maintenance...</td>\n",
       "      <td>Interior finishing and furnishing and remodeli...</td>\n",
       "      <td>NA</td>\n",
       "    </tr>\n",
       "  </tbody>\n",
       "</table>\n",
       "</div>"
      ],
      "text/plain": [
       "                      MaterialDescription  \\\n",
       "0    AIRTEL BILLS 22aug TO 23 AUG    2012   \n",
       "1   AIRTEL MOBILE BILLS 23nov O 22 dec 12   \n",
       "2               aluminum fabrication work   \n",
       "3               aluminum fabrication work   \n",
       "4             civil & plumbing work @ BMT   \n",
       "\n",
       "                                             Segment  \\\n",
       "0  Public Utilities and Public Sector Related Ser...   \n",
       "1  Public Utilities and Public Sector Related Ser...   \n",
       "2  Building and Facility Construction and Mainten...   \n",
       "3  Building and Facility Construction and Mainten...   \n",
       "4  Building and Facility Construction and Mainten...   \n",
       "\n",
       "                                              Family  \\\n",
       "0                  Telecommunications media services   \n",
       "1                  Telecommunications media services   \n",
       "2      Nonresidential building construction services   \n",
       "3      Nonresidential building construction services   \n",
       "4  Specialized trade construction and maintenance...   \n",
       "\n",
       "                                               Class Commodity  \n",
       "0   Local and long distance telephone communications        NA  \n",
       "1   Local and long distance telephone communications        NA  \n",
       "2  Commercial and office building construction se...        NA  \n",
       "3  Commercial and office building construction se...        NA  \n",
       "4  Interior finishing and furnishing and remodeli...        NA  "
      ]
     },
     "execution_count": 22,
     "metadata": {},
     "output_type": "execute_result"
    }
   ],
   "source": [
    "train_features.head()"
   ]
  },
  {
   "cell_type": "code",
   "execution_count": null,
   "metadata": {
    "collapsed": true
   },
   "outputs": [],
   "source": []
  }
 ],
 "metadata": {
  "anaconda-cloud": {},
  "kernelspec": {
   "display_name": "Python [conda env:tensorflow]",
   "language": "python",
   "name": "conda-env-tensorflow-py"
  },
  "language_info": {
   "codemirror_mode": {
    "name": "ipython",
    "version": 3
   },
   "file_extension": ".py",
   "mimetype": "text/x-python",
   "name": "python",
   "nbconvert_exporter": "python",
   "pygments_lexer": "ipython3",
   "version": "3.5.3"
  }
 },
 "nbformat": 4,
 "nbformat_minor": 1
}
