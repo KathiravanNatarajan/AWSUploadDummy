{
 "cells": [
  {
   "cell_type": "markdown",
   "metadata": {},
   "source": [
    "#### Reading data from csv"
   ]
  },
  {
   "cell_type": "code",
   "execution_count": 1,
   "metadata": {
    "collapsed": false,
    "scrolled": true
   },
   "outputs": [
    {
     "data": {
      "text/plain": [
       "0               FIN-0901MONTHLY FILLING OF 2015.8 VAT\n",
       "1                FIN-08007 MONTHLY FILLING 2015.7 VAT\n",
       "2                                      VAT SALES ELCA\n",
       "3            PROJECT GO- BWI- CONTRACT PO - LEASEHOLD\n",
       "4    DIR.BUNDESSTEUER 01.07.13-30.06.14/KANTON SCHWYZ\n",
       "Name: PO_Line_Description, dtype: object"
      ]
     },
     "execution_count": 1,
     "metadata": {},
     "output_type": "execute_result"
    }
   ],
   "source": [
    "import pandas as pd\n",
    "import numpy as np\n",
    "df = pd.read_excel('Residual.xlsx',encoding='mac_roman')\n",
    "#test_df = pd.read_csv('UNSPSCtestDataSet.csv',encoding='mac_roman',low_memory=False)\n",
    "# y and X are labels and features for the training set respectively\n",
    "#df = df.drop_duplicates(['PO_Line_Description'])\n",
    "#test_df = test_df.drop_duplicates(['MaterialDescription'])\n",
    "y = df['UNSPSC_Code']\n",
    "X = df['PO_Line_Description']\n",
    "X.head()"
   ]
  },
  {
   "cell_type": "code",
   "execution_count": 2,
   "metadata": {
    "collapsed": false
   },
   "outputs": [],
   "source": [
    "def description_to_words(sentence):\n",
    "    # Keeping only text\n",
    "    import re\n",
    "    from nltk.corpus import stopwords\n",
    "    text = re.sub(\"[^a-zA-Z]\",\" \",sentence) #[^a-zA-Z0-9] REMOVING NUMBER FROM THIS\n",
    "    # Convert words to lower case and split them \n",
    "    text = text.lower().split(\" \")\n",
    "    # optionally remove stopwords\n",
    "    stops = set(stopwords.words('english'))\n",
    "    meaningful_words = [w for w in text if not w in stops]\n",
    "    # Join the words back into one string separated by space, \n",
    "    # and return the result.\n",
    "    return( \" \".join( meaningful_words ))\n",
    "\n",
    "def sentences_split(field):\n",
    "    from nltk.corpus import stopwords\n",
    "    # Tokenizing each sentence from the paragraph \n",
    "    #raw_sentences = tokenizer.tokenize(word.strip())\n",
    "    \n",
    "    # Sentence list \n",
    "    import re\n",
    "    field = re.sub(\"[^a-zA-Z]\",\" \",str(field))\n",
    "    sentences = []\n",
    "    if len(field) > 0:\n",
    "        sentences.append(description_to_words(field))\n",
    "    return sentences\n",
    "\n",
    "def list_of_words(series):\n",
    "    mainsentences = []\n",
    "    for i in series:\n",
    "       mainsentences += sentences_split(i)\n",
    "    x = get_features(mainsentences)\n",
    "    return x\n",
    "    \n",
    "\n",
    "# BAG OF WORDS MODEL \n",
    "def get_features(series):\n",
    "    from sklearn.feature_extraction.text import CountVectorizer\n",
    "\n",
    "    # Initialize the \"CountVectorizer\" object, which is scikit-learn's\n",
    "    # bag of words tool.  \n",
    "    vectorizer = CountVectorizer(analyzer = \"word\",   \\\n",
    "                                 tokenizer = None,    \\\n",
    "                                 preprocessor = None, \\\n",
    "                                 stop_words = None,   \\\n",
    "                                 max_features = 5000) \n",
    "    train_data_features = vectorizer.fit_transform(series)\n",
    "\n",
    "    # Numpy arrays are easy to work with, so convert the result to an \n",
    "    # array\n",
    "    train_data_features = train_data_features.toarray()\n",
    "    return train_data_features\n"
   ]
  },
  {
   "cell_type": "markdown",
   "metadata": {},
   "source": [
    "### Multilayer perceptron model in Tensorflow"
   ]
  },
  {
   "cell_type": "code",
   "execution_count": 3,
   "metadata": {
    "collapsed": true
   },
   "outputs": [],
   "source": [
    "### Divdindg total data into batches\n",
    "\n",
    "def batches(k_batches, features, labels): \n",
    "    assert len(features) == len(labels)\n",
    "    batches_total = []\n",
    "    total_size = len(features)\n",
    "    for start_i in range(0,total_size, k_batches):\n",
    "        end_i = start_i + k_batches\n",
    "        batch = [features[start_i : end_i], labels[start_i : end_i]]\n",
    "        batches_total.append(batch)\n",
    "    return batches_total"
   ]
  },
  {
   "cell_type": "code",
   "execution_count": 48,
   "metadata": {
    "collapsed": false
   },
   "outputs": [
    {
     "data": {
      "text/plain": [
       "276627"
      ]
     },
     "execution_count": 48,
     "metadata": {},
     "output_type": "execute_result"
    }
   ],
   "source": [
    "int(len(X)-len(X)/3) - int(len(X)-len(X)/3)"
   ]
  },
  {
   "cell_type": "code",
   "execution_count": 51,
   "metadata": {
    "collapsed": false
   },
   "outputs": [
    {
     "data": {
      "text/plain": [
       "51867.625"
      ]
     },
     "execution_count": 51,
     "metadata": {},
     "output_type": "execute_result"
    }
   ],
   "source": [
    "x = len(X)/8 \n",
    "x "
   ]
  },
  {
   "cell_type": "code",
   "execution_count": 8,
   "metadata": {
    "collapsed": false
   },
   "outputs": [
    {
     "name": "stdout",
     "output_type": "stream",
     "text": [
      "NLTK Downloader\n",
      "---------------------------------------------------------------------------\n",
      "    d) Download   l) List    u) Update   c) Config   h) Help   q) Quit\n",
      "---------------------------------------------------------------------------\n",
      "Downloader> d\n",
      "\n",
      "Download which package (l=list; x=cancel)?\n",
      "  Identifier> stopwords\n",
      "    Downloading package stopwords to\n",
      "        C:\\Users\\sunka\\AppData\\Roaming\\nltk_data...\n",
      "      Unzipping corpora\\stopwords.zip.\n",
      "\n",
      "---------------------------------------------------------------------------\n",
      "    d) Download   l) List    u) Update   c) Config   h) Help   q) Quit\n",
      "---------------------------------------------------------------------------\n",
      "Downloader> q\n"
     ]
    },
    {
     "data": {
      "text/plain": [
       "True"
      ]
     },
     "execution_count": 8,
     "metadata": {},
     "output_type": "execute_result"
    }
   ],
   "source": [
    "import nltk\n",
    "nltk.download()"
   ]
  },
  {
   "cell_type": "code",
   "execution_count": 4,
   "metadata": {
    "collapsed": false
   },
   "outputs": [
    {
     "name": "stdout",
     "output_type": "stream",
     "text": [
      "(276627, 5000)\n",
      "(51867, 5000)\n"
     ]
    }
   ],
   "source": [
    "import tensorflow as tf\n",
    "\n",
    "\n",
    "train_features = list_of_words(X[:int(len(X)-len(X)/3)])\n",
    "train_labels = y[:int(len(X)-len(X)/3)]\n",
    "\n",
    "val_features = list_of_words(X[int(len(X)-len(X)/3):int(len(X)-len(X)/3+len(X)/8)])\n",
    "val_labels = y[int(len(X)-len(X)/3):int(len(X)-len(X)/3+len(X)/8)]\n",
    "test_features = list_of_words(X[int(len(X)-len(X)/3+len(X)/8):])\n",
    "test_labels = y[int(len(X)-len(X)/3+len(X)/8):]\n",
    "\n",
    "print(train_features.shape)\n",
    "print(val_features.shape)\n"
   ]
  },
  {
   "cell_type": "code",
   "execution_count": 54,
   "metadata": {
    "collapsed": false
   },
   "outputs": [
    {
     "name": "stdout",
     "output_type": "stream",
     "text": [
      "91\n"
     ]
    }
   ],
   "source": [
    "unique_train_labels = y.unique()\n",
    "#print(len(unique_train_labels)) 1161\n",
    "\n",
    "#print(len(test_labels.unique())) 663\n",
    "\n",
    "bigdata = pd.concat([y,test_labels], ignore_index=True)\n",
    "print(len(y.unique()))"
   ]
  },
  {
   "cell_type": "code",
   "execution_count": null,
   "metadata": {
    "collapsed": false,
    "scrolled": true
   },
   "outputs": [],
   "source": [
    "import time\n",
    "start = time.time()\n",
    "n_inputs = 5000\n",
    "n_classes = 91\n",
    "features = tf.placeholder(tf.float32, [None, n_inputs])\n",
    "labels = tf.placeholder(tf.int32, [None])\n",
    "\n",
    "h_layer_1 = 2900\n",
    "h_layer_2 = 2000\n",
    "\n",
    "weights = {\n",
    "'hidden_weights1' : tf.Variable(tf.truncated_normal([n_inputs, h_layer_1])),\n",
    "'hidden_weights2' : tf.Variable(tf.truncated_normal([h_layer_1, h_layer_2])),\n",
    "'out_weights' : tf.Variable(tf.truncated_normal([h_layer_2, n_classes]))\n",
    "}\n",
    "\n",
    "bias = {\n",
    "'hidden_bias1' : tf.Variable(tf.truncated_normal([h_layer_1])),\n",
    "'hidden_bias2' : tf.Variable(tf.truncated_normal([h_layer_2])),\n",
    "'out_bias' : tf.Variable(tf.truncated_normal([n_classes]))\n",
    "}\n",
    "keep_prob = tf.placeholder(tf.float32)\n",
    "\n",
    "### Hidden layer 1 \n",
    "hidden_output1 = tf.add(tf.matmul(features, weights['hidden_weights1']),bias['hidden_bias1'])\n",
    "hidden_relu1 = tf.nn.relu(hidden_output1)\n",
    "hidden_out1 = tf.nn.dropout(hidden_relu1, keep_prob)\n",
    "\n",
    "### Hidden layer 2\n",
    "hidden_output2 = tf.add(tf.matmul(hidden_out1, weights['hidden_weights2']),bias['hidden_bias2'])\n",
    "hidden_relu2 = tf.nn.relu(hidden_output2)\n",
    "hidden_out2 = tf.nn.dropout(hidden_relu2, keep_prob)\n",
    "\n",
    "### Output layer \n",
    "logits = tf.add(tf.matmul(hidden_out2, weights['out_weights']),bias['out_bias'])\n",
    "logits =  tf.nn.relu(logits)\n",
    "learn_rate = 0.7 # 0.5 + 200 with a dropout in output layer + 0.7prob for training set= 99.6%\n",
    "\n",
    "# The file path to save the data\n",
    "save_file = './train_model.ckpt'\n",
    "saver = tf.train.Saver() # Class to save the model\n",
    "\n",
    "\n",
    "cost = tf.reduce_mean(tf.nn.softmax_cross_entropy_with_logits(logits = logits, labels = tf.one_hot(labels, n_classes)))\n",
    "\n",
    "optimizer = tf.train.GradientDescentOptimizer(learning_rate = learn_rate).minimize(cost)\n",
    "\n",
    "correct_prediction = tf.equal(tf.argmax(logits,1), tf.argmax(tf.one_hot(labels, n_classes),1))\n",
    "accuracy = tf.reduce_mean(tf.cast(correct_prediction, tf.float32))\n",
    "\n",
    "batchSize =  10 \n",
    "\n",
    "epochs = 1000 #  200epoch+.5lr = 99.6\n",
    "init = tf.global_variables_initializer()\n",
    "with tf.Session() as sess:\n",
    "    sess.run(init) \n",
    "    total_batches = batches(batchSize, train_features, train_labels)\n",
    "    \n",
    "    for epoch in range(epochs): \n",
    "        for batch_features, batch_labels in total_batches: \n",
    "            train_data = {features: batch_features, labels : batch_labels, keep_prob : 0.5}\n",
    "            sess.run(optimizer, feed_dict = train_data)\n",
    "        # Print status for every 100 epochs\n",
    "        if epoch % 10 == 0:\n",
    "            valid_accuracy = sess.run(\n",
    "                accuracy,\n",
    "                feed_dict={\n",
    "                    features: val_features,\n",
    "                    labels: val_labels,\n",
    "                    keep_prob : 0.5})\n",
    "            print('Epoch {:<3} - Validation Accuracy: {}'.format(\n",
    "                epoch,\n",
    "                valid_accuracy))\n",
    "    Accuracy = sess.run(accuracy, feed_dict={features : test_features, labels :test_labels, keep_prob : 1.0})\n",
    "    # Save the model\n",
    "    saver.save(sess, save_file)\n",
    "    print('Trained Model Saved.')\n",
    "print(\"Accuracy value is {}\".format(Accuracy))\n",
    "end = time.time()\n",
    "print(\"total time \", end-start)"
   ]
  },
  {
   "cell_type": "markdown",
   "metadata": {
    "collapsed": true
   },
   "source": [
    "#### Restoring the saved model \n"
   ]
  },
  {
   "cell_type": "code",
   "execution_count": null,
   "metadata": {
    "collapsed": true
   },
   "outputs": [],
   "source": [
    "saver = tf.train.Saver()\n",
    "\n",
    "# Launch the graph\n",
    "with tf.Session() as sess:\n",
    "    saver.restore(sess, save_file)\n",
    "\n",
    "    test_accuracy = sess.run(accuracy, feed_dict={features : test_features, labels :test_labels, keep_prob : 1.0})\n",
    "\n",
    "print('Test Accuracy: {}'.format(test_accuracy))"
   ]
  },
  {
   "cell_type": "code",
   "execution_count": null,
   "metadata": {
    "collapsed": true
   },
   "outputs": [],
   "source": []
  }
 ],
 "metadata": {
  "anaconda-cloud": {},
  "kernelspec": {
   "display_name": "Python [conda env:gpu]",
   "language": "python",
   "name": "conda-env-gpu-py"
  },
  "language_info": {
   "codemirror_mode": {
    "name": "ipython",
    "version": 3
   },
   "file_extension": ".py",
   "mimetype": "text/x-python",
   "name": "python",
   "nbconvert_exporter": "python",
   "pygments_lexer": "ipython3",
   "version": "3.5.3"
  }
 },
 "nbformat": 4,
 "nbformat_minor": 1
}
